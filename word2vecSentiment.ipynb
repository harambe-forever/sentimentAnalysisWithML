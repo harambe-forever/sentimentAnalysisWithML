{
  "nbformat": 4,
  "nbformat_minor": 0,
  "metadata": {
    "colab": {
      "name": "word2vecSentiment.ipynb",
      "provenance": [],
      "collapsed_sections": []
    },
    "kernelspec": {
      "name": "python3",
      "display_name": "Python 3"
    },
    "language_info": {
      "name": "python"
    }
  },
  "cells": [
    {
      "cell_type": "code",
      "execution_count": null,
      "metadata": {
        "id": "vOdqZ-SnlnWP"
      },
      "outputs": [],
      "source": [
        "!python -m spacy download en_core_web_lg"
      ]
    },
    {
      "cell_type": "code",
      "source": [
        "!pip install spacy"
      ],
      "metadata": {
        "id": "RFqPGykYmysI"
      },
      "execution_count": null,
      "outputs": []
    },
    {
      "cell_type": "code",
      "source": [
        "import spacy\n",
        "import en_core_web_lg"
      ],
      "metadata": {
        "id": "-rof2Urjm5Uc"
      },
      "execution_count": 13,
      "outputs": []
    },
    {
      "cell_type": "code",
      "source": [
        "NLP = en_core_web_lg.load()"
      ],
      "metadata": {
        "id": "bhM0hjHEnEDM"
      },
      "execution_count": 14,
      "outputs": []
    },
    {
      "cell_type": "code",
      "source": [
        "x = \"king man woman\"\n",
        "doc = NLP(x)\n",
        "for token1 in doc:\n",
        "  for token2 in doc:\n",
        "    print(token1.text, token2.text, token1.similarity(token2))"
      ],
      "metadata": {
        "colab": {
          "base_uri": "https://localhost:8080/"
        },
        "id": "LPwvIguVnPBd",
        "outputId": "02c68c36-608d-47e3-e29d-71d622424c8e"
      },
      "execution_count": 15,
      "outputs": [
        {
          "output_type": "stream",
          "name": "stdout",
          "text": [
            "king king 1.0\n",
            "king man 0.4088461101055145\n",
            "king woman 0.2655659317970276\n",
            "man king 0.4088461101055145\n",
            "man man 1.0\n",
            "man woman 0.7401744723320007\n",
            "woman king 0.2655659317970276\n",
            "woman man 0.7401744723320007\n",
            "woman woman 1.0\n"
          ]
        }
      ]
    },
    {
      "cell_type": "markdown",
      "source": [
        "### Building Our Model"
      ],
      "metadata": {
        "id": "PcTSOHt6ng1I"
      }
    },
    {
      "cell_type": "code",
      "source": [
        "import numpy as np\n",
        "import pandas as pd\n",
        "\n",
        "from sklearn.linear_model import LogisticRegression\n",
        "from sklearn.model_selection import train_test_split\n",
        "from sklearn.metrics import classification_report"
      ],
      "metadata": {
        "id": "r-fuEok3njik"
      },
      "execution_count": 16,
      "outputs": []
    },
    {
      "cell_type": "code",
      "source": [
        "import json\n",
        "reviews = []\n",
        "sentiments = []\n",
        "file_name = \"drive/MyDrive/Books_5_9999_evenly.json\"\n",
        "with open(file_name) as f:\n",
        "  for line in f:\n",
        "    review = json.loads(line)\n",
        "    reviews.append(review[\"reviewText\"])\n",
        "    sentiments.append(review[\"overall\"])"
      ],
      "metadata": {
        "id": "3fPUC_LSoL90"
      },
      "execution_count": 17,
      "outputs": []
    },
    {
      "cell_type": "code",
      "source": [
        "!pip install git+https://github.com/laxmimerit/preprocess_kgptalkie.git\n",
        "import preprocess_kgptalkie as ps\n",
        "import re"
      ],
      "metadata": {
        "id": "U0FLvO-Uscbs"
      },
      "execution_count": null,
      "outputs": []
    },
    {
      "cell_type": "code",
      "source": [
        "def get_clean(x):\n",
        "    x = str(x).lower().replace('\\\\', '').replace('_', ' ')\n",
        "    x = ps.cont_exp(x)\n",
        "    x = ps.remove_emails(x)\n",
        "    x = ps.remove_urls(x)\n",
        "    x = ps.remove_html_tags(x)\n",
        "    x = ps.remove_rt(x)\n",
        "    x = ps.remove_accented_chars(x)\n",
        "    x = ps.remove_special_chars(x)\n",
        "    x = re.sub(\"(.)\\\\1{2,}\", \"\\\\1\", x)\n",
        "    return x"
      ],
      "metadata": {
        "id": "dTia_1Lls0WL"
      },
      "execution_count": 19,
      "outputs": []
    },
    {
      "cell_type": "code",
      "source": [
        "d = {\"reviews\": reviews, \"points\": sentiments}\n",
        "df = pd.DataFrame(d)\n",
        "df"
      ],
      "metadata": {
        "id": "5OkYotnsovxc",
        "colab": {
          "base_uri": "https://localhost:8080/",
          "height": 423
        },
        "outputId": "689ca665-5436-45c6-bb88-6dfd60dbf178"
      },
      "execution_count": 20,
      "outputs": [
        {
          "output_type": "execute_result",
          "data": {
            "text/plain": [
              "                                                reviews  points\n",
              "0     This book was supposed to be a best seller so ...     3.0\n",
              "1     In the closing months of World War II, twenty-...     3.0\n",
              "2     I think Stien is one of finest erotica writers...     3.0\n",
              "3     The bridge novel in J. R. R. Tolkien's famous ...     3.0\n",
              "4     This book has many twists and turns, it kept m...     5.0\n",
              "...                                                 ...     ...\n",
              "9994  I thought I would be the curmudgeon saying tha...     2.0\n",
              "9995  Like any &#34;historical&#34; fiction novel, o...     5.0\n",
              "9996  I enjoyed reading this volume and appreciate t...     4.0\n",
              "9997  This book should be required reading for paren...     1.0\n",
              "9998  An exciting and truthful account of the Japane...     5.0\n",
              "\n",
              "[9999 rows x 2 columns]"
            ],
            "text/html": [
              "\n",
              "  <div id=\"df-513f71ef-5dce-4b54-9db7-6322aab843fb\">\n",
              "    <div class=\"colab-df-container\">\n",
              "      <div>\n",
              "<style scoped>\n",
              "    .dataframe tbody tr th:only-of-type {\n",
              "        vertical-align: middle;\n",
              "    }\n",
              "\n",
              "    .dataframe tbody tr th {\n",
              "        vertical-align: top;\n",
              "    }\n",
              "\n",
              "    .dataframe thead th {\n",
              "        text-align: right;\n",
              "    }\n",
              "</style>\n",
              "<table border=\"1\" class=\"dataframe\">\n",
              "  <thead>\n",
              "    <tr style=\"text-align: right;\">\n",
              "      <th></th>\n",
              "      <th>reviews</th>\n",
              "      <th>points</th>\n",
              "    </tr>\n",
              "  </thead>\n",
              "  <tbody>\n",
              "    <tr>\n",
              "      <th>0</th>\n",
              "      <td>This book was supposed to be a best seller so ...</td>\n",
              "      <td>3.0</td>\n",
              "    </tr>\n",
              "    <tr>\n",
              "      <th>1</th>\n",
              "      <td>In the closing months of World War II, twenty-...</td>\n",
              "      <td>3.0</td>\n",
              "    </tr>\n",
              "    <tr>\n",
              "      <th>2</th>\n",
              "      <td>I think Stien is one of finest erotica writers...</td>\n",
              "      <td>3.0</td>\n",
              "    </tr>\n",
              "    <tr>\n",
              "      <th>3</th>\n",
              "      <td>The bridge novel in J. R. R. Tolkien's famous ...</td>\n",
              "      <td>3.0</td>\n",
              "    </tr>\n",
              "    <tr>\n",
              "      <th>4</th>\n",
              "      <td>This book has many twists and turns, it kept m...</td>\n",
              "      <td>5.0</td>\n",
              "    </tr>\n",
              "    <tr>\n",
              "      <th>...</th>\n",
              "      <td>...</td>\n",
              "      <td>...</td>\n",
              "    </tr>\n",
              "    <tr>\n",
              "      <th>9994</th>\n",
              "      <td>I thought I would be the curmudgeon saying tha...</td>\n",
              "      <td>2.0</td>\n",
              "    </tr>\n",
              "    <tr>\n",
              "      <th>9995</th>\n",
              "      <td>Like any &amp;#34;historical&amp;#34; fiction novel, o...</td>\n",
              "      <td>5.0</td>\n",
              "    </tr>\n",
              "    <tr>\n",
              "      <th>9996</th>\n",
              "      <td>I enjoyed reading this volume and appreciate t...</td>\n",
              "      <td>4.0</td>\n",
              "    </tr>\n",
              "    <tr>\n",
              "      <th>9997</th>\n",
              "      <td>This book should be required reading for paren...</td>\n",
              "      <td>1.0</td>\n",
              "    </tr>\n",
              "    <tr>\n",
              "      <th>9998</th>\n",
              "      <td>An exciting and truthful account of the Japane...</td>\n",
              "      <td>5.0</td>\n",
              "    </tr>\n",
              "  </tbody>\n",
              "</table>\n",
              "<p>9999 rows × 2 columns</p>\n",
              "</div>\n",
              "      <button class=\"colab-df-convert\" onclick=\"convertToInteractive('df-513f71ef-5dce-4b54-9db7-6322aab843fb')\"\n",
              "              title=\"Convert this dataframe to an interactive table.\"\n",
              "              style=\"display:none;\">\n",
              "        \n",
              "  <svg xmlns=\"http://www.w3.org/2000/svg\" height=\"24px\"viewBox=\"0 0 24 24\"\n",
              "       width=\"24px\">\n",
              "    <path d=\"M0 0h24v24H0V0z\" fill=\"none\"/>\n",
              "    <path d=\"M18.56 5.44l.94 2.06.94-2.06 2.06-.94-2.06-.94-.94-2.06-.94 2.06-2.06.94zm-11 1L8.5 8.5l.94-2.06 2.06-.94-2.06-.94L8.5 2.5l-.94 2.06-2.06.94zm10 10l.94 2.06.94-2.06 2.06-.94-2.06-.94-.94-2.06-.94 2.06-2.06.94z\"/><path d=\"M17.41 7.96l-1.37-1.37c-.4-.4-.92-.59-1.43-.59-.52 0-1.04.2-1.43.59L10.3 9.45l-7.72 7.72c-.78.78-.78 2.05 0 2.83L4 21.41c.39.39.9.59 1.41.59.51 0 1.02-.2 1.41-.59l7.78-7.78 2.81-2.81c.8-.78.8-2.07 0-2.86zM5.41 20L4 18.59l7.72-7.72 1.47 1.35L5.41 20z\"/>\n",
              "  </svg>\n",
              "      </button>\n",
              "      \n",
              "  <style>\n",
              "    .colab-df-container {\n",
              "      display:flex;\n",
              "      flex-wrap:wrap;\n",
              "      gap: 12px;\n",
              "    }\n",
              "\n",
              "    .colab-df-convert {\n",
              "      background-color: #E8F0FE;\n",
              "      border: none;\n",
              "      border-radius: 50%;\n",
              "      cursor: pointer;\n",
              "      display: none;\n",
              "      fill: #1967D2;\n",
              "      height: 32px;\n",
              "      padding: 0 0 0 0;\n",
              "      width: 32px;\n",
              "    }\n",
              "\n",
              "    .colab-df-convert:hover {\n",
              "      background-color: #E2EBFA;\n",
              "      box-shadow: 0px 1px 2px rgba(60, 64, 67, 0.3), 0px 1px 3px 1px rgba(60, 64, 67, 0.15);\n",
              "      fill: #174EA6;\n",
              "    }\n",
              "\n",
              "    [theme=dark] .colab-df-convert {\n",
              "      background-color: #3B4455;\n",
              "      fill: #D2E3FC;\n",
              "    }\n",
              "\n",
              "    [theme=dark] .colab-df-convert:hover {\n",
              "      background-color: #434B5C;\n",
              "      box-shadow: 0px 1px 3px 1px rgba(0, 0, 0, 0.15);\n",
              "      filter: drop-shadow(0px 1px 2px rgba(0, 0, 0, 0.3));\n",
              "      fill: #FFFFFF;\n",
              "    }\n",
              "  </style>\n",
              "\n",
              "      <script>\n",
              "        const buttonEl =\n",
              "          document.querySelector('#df-513f71ef-5dce-4b54-9db7-6322aab843fb button.colab-df-convert');\n",
              "        buttonEl.style.display =\n",
              "          google.colab.kernel.accessAllowed ? 'block' : 'none';\n",
              "\n",
              "        async function convertToInteractive(key) {\n",
              "          const element = document.querySelector('#df-513f71ef-5dce-4b54-9db7-6322aab843fb');\n",
              "          const dataTable =\n",
              "            await google.colab.kernel.invokeFunction('convertToInteractive',\n",
              "                                                     [key], {});\n",
              "          if (!dataTable) return;\n",
              "\n",
              "          const docLinkHtml = 'Like what you see? Visit the ' +\n",
              "            '<a target=\"_blank\" href=https://colab.research.google.com/notebooks/data_table.ipynb>data table notebook</a>'\n",
              "            + ' to learn more about interactive tables.';\n",
              "          element.innerHTML = '';\n",
              "          dataTable['output_type'] = 'display_data';\n",
              "          await google.colab.output.renderOutput(dataTable, element);\n",
              "          const docLink = document.createElement('div');\n",
              "          docLink.innerHTML = docLinkHtml;\n",
              "          element.appendChild(docLink);\n",
              "        }\n",
              "      </script>\n",
              "    </div>\n",
              "  </div>\n",
              "  "
            ]
          },
          "metadata": {},
          "execution_count": 20
        }
      ]
    },
    {
      "cell_type": "code",
      "source": [
        "df[\"reviews\"] = df[\"reviews\"].apply(lambda x: get_clean(x))"
      ],
      "metadata": {
        "id": "B_K6E5HEs88B"
      },
      "execution_count": 21,
      "outputs": []
    },
    {
      "cell_type": "code",
      "source": [
        "df"
      ],
      "metadata": {
        "colab": {
          "base_uri": "https://localhost:8080/",
          "height": 423
        },
        "id": "LwQlwFUBs4d2",
        "outputId": "01293cdf-9ccc-467d-91d4-fe464fa8d12f"
      },
      "execution_count": 22,
      "outputs": [
        {
          "output_type": "execute_result",
          "data": {
            "text/plain": [
              "                                                reviews  points\n",
              "0     this book was supposed to be a best seller so ...     3.0\n",
              "1     in the closing months of world war ii twentyfo...     3.0\n",
              "2     i think stien is one of finest erotica writers...     3.0\n",
              "3     the bridge novel in j r r tolkiens famous fant...     3.0\n",
              "4     this book has many twists and turns it kept me...     5.0\n",
              "...                                                 ...     ...\n",
              "9994  i thought i would be the curmudgeon saying tha...     2.0\n",
              "9995  like any historical fiction novel one must be ...     5.0\n",
              "9996  i enjoyed reading this volume and appreciate t...     4.0\n",
              "9997  this book should be required reading for paren...     1.0\n",
              "9998  an exciting and truthful account of the japane...     5.0\n",
              "\n",
              "[9999 rows x 2 columns]"
            ],
            "text/html": [
              "\n",
              "  <div id=\"df-b421e849-cdf3-403c-aff5-ee33a60ddf5d\">\n",
              "    <div class=\"colab-df-container\">\n",
              "      <div>\n",
              "<style scoped>\n",
              "    .dataframe tbody tr th:only-of-type {\n",
              "        vertical-align: middle;\n",
              "    }\n",
              "\n",
              "    .dataframe tbody tr th {\n",
              "        vertical-align: top;\n",
              "    }\n",
              "\n",
              "    .dataframe thead th {\n",
              "        text-align: right;\n",
              "    }\n",
              "</style>\n",
              "<table border=\"1\" class=\"dataframe\">\n",
              "  <thead>\n",
              "    <tr style=\"text-align: right;\">\n",
              "      <th></th>\n",
              "      <th>reviews</th>\n",
              "      <th>points</th>\n",
              "    </tr>\n",
              "  </thead>\n",
              "  <tbody>\n",
              "    <tr>\n",
              "      <th>0</th>\n",
              "      <td>this book was supposed to be a best seller so ...</td>\n",
              "      <td>3.0</td>\n",
              "    </tr>\n",
              "    <tr>\n",
              "      <th>1</th>\n",
              "      <td>in the closing months of world war ii twentyfo...</td>\n",
              "      <td>3.0</td>\n",
              "    </tr>\n",
              "    <tr>\n",
              "      <th>2</th>\n",
              "      <td>i think stien is one of finest erotica writers...</td>\n",
              "      <td>3.0</td>\n",
              "    </tr>\n",
              "    <tr>\n",
              "      <th>3</th>\n",
              "      <td>the bridge novel in j r r tolkiens famous fant...</td>\n",
              "      <td>3.0</td>\n",
              "    </tr>\n",
              "    <tr>\n",
              "      <th>4</th>\n",
              "      <td>this book has many twists and turns it kept me...</td>\n",
              "      <td>5.0</td>\n",
              "    </tr>\n",
              "    <tr>\n",
              "      <th>...</th>\n",
              "      <td>...</td>\n",
              "      <td>...</td>\n",
              "    </tr>\n",
              "    <tr>\n",
              "      <th>9994</th>\n",
              "      <td>i thought i would be the curmudgeon saying tha...</td>\n",
              "      <td>2.0</td>\n",
              "    </tr>\n",
              "    <tr>\n",
              "      <th>9995</th>\n",
              "      <td>like any historical fiction novel one must be ...</td>\n",
              "      <td>5.0</td>\n",
              "    </tr>\n",
              "    <tr>\n",
              "      <th>9996</th>\n",
              "      <td>i enjoyed reading this volume and appreciate t...</td>\n",
              "      <td>4.0</td>\n",
              "    </tr>\n",
              "    <tr>\n",
              "      <th>9997</th>\n",
              "      <td>this book should be required reading for paren...</td>\n",
              "      <td>1.0</td>\n",
              "    </tr>\n",
              "    <tr>\n",
              "      <th>9998</th>\n",
              "      <td>an exciting and truthful account of the japane...</td>\n",
              "      <td>5.0</td>\n",
              "    </tr>\n",
              "  </tbody>\n",
              "</table>\n",
              "<p>9999 rows × 2 columns</p>\n",
              "</div>\n",
              "      <button class=\"colab-df-convert\" onclick=\"convertToInteractive('df-b421e849-cdf3-403c-aff5-ee33a60ddf5d')\"\n",
              "              title=\"Convert this dataframe to an interactive table.\"\n",
              "              style=\"display:none;\">\n",
              "        \n",
              "  <svg xmlns=\"http://www.w3.org/2000/svg\" height=\"24px\"viewBox=\"0 0 24 24\"\n",
              "       width=\"24px\">\n",
              "    <path d=\"M0 0h24v24H0V0z\" fill=\"none\"/>\n",
              "    <path d=\"M18.56 5.44l.94 2.06.94-2.06 2.06-.94-2.06-.94-.94-2.06-.94 2.06-2.06.94zm-11 1L8.5 8.5l.94-2.06 2.06-.94-2.06-.94L8.5 2.5l-.94 2.06-2.06.94zm10 10l.94 2.06.94-2.06 2.06-.94-2.06-.94-.94-2.06-.94 2.06-2.06.94z\"/><path d=\"M17.41 7.96l-1.37-1.37c-.4-.4-.92-.59-1.43-.59-.52 0-1.04.2-1.43.59L10.3 9.45l-7.72 7.72c-.78.78-.78 2.05 0 2.83L4 21.41c.39.39.9.59 1.41.59.51 0 1.02-.2 1.41-.59l7.78-7.78 2.81-2.81c.8-.78.8-2.07 0-2.86zM5.41 20L4 18.59l7.72-7.72 1.47 1.35L5.41 20z\"/>\n",
              "  </svg>\n",
              "      </button>\n",
              "      \n",
              "  <style>\n",
              "    .colab-df-container {\n",
              "      display:flex;\n",
              "      flex-wrap:wrap;\n",
              "      gap: 12px;\n",
              "    }\n",
              "\n",
              "    .colab-df-convert {\n",
              "      background-color: #E8F0FE;\n",
              "      border: none;\n",
              "      border-radius: 50%;\n",
              "      cursor: pointer;\n",
              "      display: none;\n",
              "      fill: #1967D2;\n",
              "      height: 32px;\n",
              "      padding: 0 0 0 0;\n",
              "      width: 32px;\n",
              "    }\n",
              "\n",
              "    .colab-df-convert:hover {\n",
              "      background-color: #E2EBFA;\n",
              "      box-shadow: 0px 1px 2px rgba(60, 64, 67, 0.3), 0px 1px 3px 1px rgba(60, 64, 67, 0.15);\n",
              "      fill: #174EA6;\n",
              "    }\n",
              "\n",
              "    [theme=dark] .colab-df-convert {\n",
              "      background-color: #3B4455;\n",
              "      fill: #D2E3FC;\n",
              "    }\n",
              "\n",
              "    [theme=dark] .colab-df-convert:hover {\n",
              "      background-color: #434B5C;\n",
              "      box-shadow: 0px 1px 3px 1px rgba(0, 0, 0, 0.15);\n",
              "      filter: drop-shadow(0px 1px 2px rgba(0, 0, 0, 0.3));\n",
              "      fill: #FFFFFF;\n",
              "    }\n",
              "  </style>\n",
              "\n",
              "      <script>\n",
              "        const buttonEl =\n",
              "          document.querySelector('#df-b421e849-cdf3-403c-aff5-ee33a60ddf5d button.colab-df-convert');\n",
              "        buttonEl.style.display =\n",
              "          google.colab.kernel.accessAllowed ? 'block' : 'none';\n",
              "\n",
              "        async function convertToInteractive(key) {\n",
              "          const element = document.querySelector('#df-b421e849-cdf3-403c-aff5-ee33a60ddf5d');\n",
              "          const dataTable =\n",
              "            await google.colab.kernel.invokeFunction('convertToInteractive',\n",
              "                                                     [key], {});\n",
              "          if (!dataTable) return;\n",
              "\n",
              "          const docLinkHtml = 'Like what you see? Visit the ' +\n",
              "            '<a target=\"_blank\" href=https://colab.research.google.com/notebooks/data_table.ipynb>data table notebook</a>'\n",
              "            + ' to learn more about interactive tables.';\n",
              "          element.innerHTML = '';\n",
              "          dataTable['output_type'] = 'display_data';\n",
              "          await google.colab.output.renderOutput(dataTable, element);\n",
              "          const docLink = document.createElement('div');\n",
              "          docLink.innerHTML = docLinkHtml;\n",
              "          element.appendChild(docLink);\n",
              "        }\n",
              "      </script>\n",
              "    </div>\n",
              "  </div>\n",
              "  "
            ]
          },
          "metadata": {},
          "execution_count": 22
        }
      ]
    },
    {
      "cell_type": "markdown",
      "source": [
        "### Conversion"
      ],
      "metadata": {
        "id": "VLz7fcMOvUok"
      }
    },
    {
      "cell_type": "code",
      "source": [
        "x = \"cat dog\"\n",
        "doc = NLP(x)\n"
      ],
      "metadata": {
        "id": "krfstP4xvWDB"
      },
      "execution_count": 23,
      "outputs": []
    },
    {
      "cell_type": "code",
      "source": [
        "doc"
      ],
      "metadata": {
        "colab": {
          "base_uri": "https://localhost:8080/"
        },
        "id": "032eSb8Zco4h",
        "outputId": "d5173305-e1c9-4656-ce9a-1ade8fc79f11"
      },
      "execution_count": 78,
      "outputs": [
        {
          "output_type": "execute_result",
          "data": {
            "text/plain": [
              "cat dog"
            ]
          },
          "metadata": {},
          "execution_count": 78
        }
      ]
    },
    {
      "cell_type": "code",
      "source": [
        "doc.vector"
      ],
      "metadata": {
        "id": "Oa-Uf_79vZfe"
      },
      "execution_count": null,
      "outputs": []
    },
    {
      "cell_type": "code",
      "source": [
        "doc.vector.shape"
      ],
      "metadata": {
        "colab": {
          "base_uri": "https://localhost:8080/"
        },
        "id": "sHmPuP93vaqA",
        "outputId": "d2acd9ad-c211-4ef9-f4ea-5e26aa77dc32"
      },
      "execution_count": 25,
      "outputs": [
        {
          "output_type": "execute_result",
          "data": {
            "text/plain": [
              "(300,)"
            ]
          },
          "metadata": {},
          "execution_count": 25
        }
      ]
    },
    {
      "cell_type": "code",
      "source": [
        "def get_vec(x):\n",
        "  doc = NLP(x)\n",
        "  vec = doc.vector\n",
        "  return vec"
      ],
      "metadata": {
        "id": "EHbu5_HRvcKd"
      },
      "execution_count": 26,
      "outputs": []
    },
    {
      "cell_type": "code",
      "source": [
        "get_vec(x)"
      ],
      "metadata": {
        "colab": {
          "base_uri": "https://localhost:8080/"
        },
        "id": "i2e6W_D_vnVc",
        "outputId": "445252c9-4191-4966-c9bb-8462bbed8655"
      },
      "execution_count": 27,
      "outputs": [
        {
          "output_type": "execute_result",
          "data": {
            "text/plain": [
              "array([-2.76215017e-01,  1.73051000e-01, -1.06199495e-01, -2.87514985e-01,\n",
              "       -6.71409965e-02,  3.10755014e-01, -1.97300002e-01, -2.83794999e-01,\n",
              "        9.76060033e-02,  1.66744995e+00, -6.34269953e-01,  9.63025019e-02,\n",
              "       -6.48334980e-01,  1.21810503e-01, -2.99584985e-01,  2.50550002e-01,\n",
              "        2.70019501e-01,  1.12965000e+00, -1.50799975e-02, -3.55899990e-01,\n",
              "       -3.66439998e-01, -6.04224950e-02,  5.51749915e-02, -3.11755002e-01,\n",
              "        3.66990000e-01, -1.74511507e-01, -3.25464994e-01, -4.03584987e-01,\n",
              "        2.28844002e-01, -1.20778494e-01, -6.23224974e-01,  6.32480010e-02,\n",
              "       -1.10113002e-01,  4.38295007e-01,  3.05490017e-01,  6.75000250e-03,\n",
              "        5.48135042e-01, -8.55714977e-01, -1.13398999e-01,  1.28289998e-01,\n",
              "        2.71515012e-01,  1.46710008e-01, -1.70319498e-01, -3.54690015e-01,\n",
              "        2.79549956e-02, -1.16696998e-01, -4.24840003e-01,  2.22696498e-01,\n",
              "       -4.93499637e-03, -2.17053995e-01,  1.82810009e-01,  9.06850100e-02,\n",
              "        1.11986503e-01,  3.87109995e-01, -3.18425000e-01,  4.99654979e-01,\n",
              "        1.81956992e-01, -6.87099993e-02, -1.43725991e-01,  4.35289979e-01,\n",
              "        9.86275002e-02,  4.67345007e-02, -1.92749873e-03,  5.22850081e-02,\n",
              "        2.97775000e-01, -3.85209978e-01,  5.76804996e-01,  1.48784995e-01,\n",
              "       -1.41434446e-01,  1.03950035e-03, -2.42940009e-01, -1.72104999e-01,\n",
              "       -5.68699911e-02, -1.76929995e-01,  1.50017008e-01,  3.16801488e-01,\n",
              "       -3.15115005e-01, -6.28289998e-01,  2.19624996e-01, -2.68795013e-01,\n",
              "        1.21139497e-01,  3.63014996e-01, -4.00745004e-01, -1.08829997e-01,\n",
              "       -2.14774996e-01, -4.41314995e-01,  1.09891999e+00,  5.93294978e-01,\n",
              "        7.01059997e-01, -2.01900005e-02,  1.33182004e-01,  5.66219985e-01,\n",
              "        6.99644983e-02, -2.20970005e-01, -3.11199993e-01, -3.59205008e-01,\n",
              "        2.60900036e-02, -4.45614994e-01,  3.34235013e-01, -2.60055006e-01,\n",
              "        1.16444498e-01,  5.73549986e-01,  2.58594990e-01, -2.06540003e-02,\n",
              "        4.13214982e-01, -4.77899969e-01,  2.95949996e-01, -2.33590007e-01,\n",
              "       -2.31989995e-01,  2.57299989e-02,  1.27523988e-01,  3.31310004e-01,\n",
              "        4.01549995e-01, -5.55299997e-01, -1.07810006e-01,  7.32090026e-02,\n",
              "       -7.97109976e-02, -9.27015021e-02,  2.13324010e-01, -9.23150033e-02,\n",
              "       -6.45140037e-02,  5.41900024e-02,  7.74520040e-01, -7.89605021e-01,\n",
              "       -4.09974992e-01,  1.93370000e-01,  3.54225010e-01, -1.60270497e-01,\n",
              "       -3.59880000e-01, -2.25380003e-01, -2.93394983e-01, -2.28440002e-01,\n",
              "       -1.82730496e-01,  3.62334996e-01,  1.65973499e-01, -7.41849989e-02,\n",
              "       -2.76645005e-01,  3.06944996e-01,  1.59339994e-01,  1.51345015e-01,\n",
              "       -2.76119995e+00, -5.43134987e-01,  1.91553503e-01,  5.96249998e-01,\n",
              "        5.16054988e-01, -4.83220011e-01, -6.13645501e-02,  4.60799932e-02,\n",
              "        1.87505007e-01, -9.19129997e-02,  8.91820490e-02,  5.81324995e-02,\n",
              "       -2.77135491e-01, -1.55110493e-01, -6.99500069e-02, -1.49789006e-01,\n",
              "       -1.00107297e-01,  4.51959997e-01, -3.23605001e-01, -6.16949975e-01,\n",
              "        2.70515025e-01, -2.30710000e-01, -1.86298013e-01, -6.38715029e-01,\n",
              "       -3.26505005e-02,  9.21855047e-02, -1.04692504e-01, -4.81754988e-02,\n",
              "       -1.50943995e-01, -7.55780041e-02,  1.91786006e-01,  7.65964985e-02,\n",
              "        9.66205001e-02, -1.63145006e-01, -2.35002309e-01,  6.79844975e-01,\n",
              "       -1.16769001e-01,  5.81875026e-01, -1.11641496e-01,  1.06924999e+00,\n",
              "       -2.11549997e-02, -3.59490007e-01, -1.00166500e-01, -3.27544987e-01,\n",
              "       -5.67629993e-01, -1.13499910e-02,  1.31940991e-01,  2.00434506e-01,\n",
              "       -2.37625003e-01, -6.97404981e-01, -6.87195003e-01,  9.57399979e-03,\n",
              "       -1.40709996e-01, -5.59440017e-01,  3.31499994e-01,  5.50719976e-01,\n",
              "        1.64177001e-01, -3.88534993e-01,  7.97224998e-01,  2.76365019e-02,\n",
              "       -5.57299972e-01,  1.28003001e-01, -4.28674996e-01,  6.26250058e-02,\n",
              "        8.23159963e-02,  8.62549990e-02,  4.40190017e-01, -1.77074999e-01,\n",
              "        5.10535002e-01, -1.01739153e-01, -3.66114974e-01,  2.07834989e-01,\n",
              "       -4.38740015e-01,  2.27550000e-01, -4.82364967e-02, -1.76310003e-01,\n",
              "       -2.56305002e-02,  5.61419964e-01, -2.34620497e-01,  8.66393521e-02,\n",
              "        1.40386492e-01,  1.90565005e-01,  3.01575005e-01, -4.25114989e-01,\n",
              "       -5.11924982e-01,  1.22840002e-01, -2.29210004e-01,  5.62639952e-01,\n",
              "        1.94240004e-01,  9.01745483e-02, -4.70039994e-01,  4.80275005e-02,\n",
              "       -2.00455010e-01, -3.07245016e-01,  2.46230006e-01,  1.67396009e-01,\n",
              "       -2.46355012e-02, -9.65580046e-02,  3.38324994e-01, -3.87860000e-01,\n",
              "       -5.46445012e-01, -1.34582400e-01, -1.70387998e-01, -5.77430017e-02,\n",
              "       -1.79795012e-01,  1.44707352e-01,  6.12800047e-02, -4.79700044e-02,\n",
              "       -1.53479993e-01, -9.49255005e-02,  6.67430013e-02, -7.88200088e-03,\n",
              "        3.07199955e-02,  5.18280029e-01,  5.37843183e-02,  1.95900016e-02,\n",
              "       -4.29749995e-01,  6.85165003e-02,  3.26884985e-01, -3.49130005e-01,\n",
              "       -1.17517002e-01, -3.39125007e-01, -5.05194999e-02, -5.50379992e-01,\n",
              "        1.55102491e-01,  2.79860020e-01, -2.89137483e-01, -1.34850502e-01,\n",
              "       -2.49364495e-01,  4.47749980e-02, -4.19305027e-01,  6.94585025e-01,\n",
              "        8.71939957e-02,  9.74244997e-02,  1.05648994e-01,  2.86534995e-01,\n",
              "        1.24496505e-01,  3.59699994e-01,  1.57999992e-03, -5.38380034e-02,\n",
              "       -4.17179987e-02,  2.89844990e-01,  1.87938496e-01, -2.95760006e-01,\n",
              "        4.93725002e-01,  4.70005006e-01,  2.61645019e-01, -3.15999985e-01,\n",
              "        2.14695007e-01, -3.24274972e-02, -1.54450998e-01, -1.84155002e-01,\n",
              "       -1.65972009e-01,  1.06177256e-01, -2.42974997e-01,  6.81475043e-01,\n",
              "        1.75232008e-01,  3.53484988e-01,  2.35579997e-01, -1.86450496e-01],\n",
              "      dtype=float32)"
            ]
          },
          "metadata": {},
          "execution_count": 27
        }
      ]
    },
    {
      "cell_type": "code",
      "source": [
        "df[\"vec\"] = df[\"reviews\"].apply(lambda x: get_vec(x))"
      ],
      "metadata": {
        "id": "nG3AnjkJvodA"
      },
      "execution_count": 28,
      "outputs": []
    },
    {
      "cell_type": "code",
      "source": [
        "df.head()"
      ],
      "metadata": {
        "colab": {
          "base_uri": "https://localhost:8080/",
          "height": 206
        },
        "id": "mOUxyxjpvz4C",
        "outputId": "31e1d194-3986-433c-dd36-5c055ecf814c"
      },
      "execution_count": 29,
      "outputs": [
        {
          "output_type": "execute_result",
          "data": {
            "text/plain": [
              "                                             reviews  points  \\\n",
              "0  this book was supposed to be a best seller so ...     3.0   \n",
              "1  in the closing months of world war ii twentyfo...     3.0   \n",
              "2  i think stien is one of finest erotica writers...     3.0   \n",
              "3  the bridge novel in j r r tolkiens famous fant...     3.0   \n",
              "4  this book has many twists and turns it kept me...     5.0   \n",
              "\n",
              "                                                 vec  \n",
              "0  [-0.014849584, 0.21104869, -0.15673302, -0.074...  \n",
              "1  [0.06272754, 0.0677921, -0.0718665, -0.0253473...  \n",
              "2  [-0.011837674, 0.13551477, -0.14289556, -0.007...  \n",
              "3  [0.0038804708, 0.07443543, -0.13911256, -0.052...  \n",
              "4  [0.061509643, 0.16203243, -0.14604068, 0.00774...  "
            ],
            "text/html": [
              "\n",
              "  <div id=\"df-1a2339db-a82c-4783-8676-ac74170dd272\">\n",
              "    <div class=\"colab-df-container\">\n",
              "      <div>\n",
              "<style scoped>\n",
              "    .dataframe tbody tr th:only-of-type {\n",
              "        vertical-align: middle;\n",
              "    }\n",
              "\n",
              "    .dataframe tbody tr th {\n",
              "        vertical-align: top;\n",
              "    }\n",
              "\n",
              "    .dataframe thead th {\n",
              "        text-align: right;\n",
              "    }\n",
              "</style>\n",
              "<table border=\"1\" class=\"dataframe\">\n",
              "  <thead>\n",
              "    <tr style=\"text-align: right;\">\n",
              "      <th></th>\n",
              "      <th>reviews</th>\n",
              "      <th>points</th>\n",
              "      <th>vec</th>\n",
              "    </tr>\n",
              "  </thead>\n",
              "  <tbody>\n",
              "    <tr>\n",
              "      <th>0</th>\n",
              "      <td>this book was supposed to be a best seller so ...</td>\n",
              "      <td>3.0</td>\n",
              "      <td>[-0.014849584, 0.21104869, -0.15673302, -0.074...</td>\n",
              "    </tr>\n",
              "    <tr>\n",
              "      <th>1</th>\n",
              "      <td>in the closing months of world war ii twentyfo...</td>\n",
              "      <td>3.0</td>\n",
              "      <td>[0.06272754, 0.0677921, -0.0718665, -0.0253473...</td>\n",
              "    </tr>\n",
              "    <tr>\n",
              "      <th>2</th>\n",
              "      <td>i think stien is one of finest erotica writers...</td>\n",
              "      <td>3.0</td>\n",
              "      <td>[-0.011837674, 0.13551477, -0.14289556, -0.007...</td>\n",
              "    </tr>\n",
              "    <tr>\n",
              "      <th>3</th>\n",
              "      <td>the bridge novel in j r r tolkiens famous fant...</td>\n",
              "      <td>3.0</td>\n",
              "      <td>[0.0038804708, 0.07443543, -0.13911256, -0.052...</td>\n",
              "    </tr>\n",
              "    <tr>\n",
              "      <th>4</th>\n",
              "      <td>this book has many twists and turns it kept me...</td>\n",
              "      <td>5.0</td>\n",
              "      <td>[0.061509643, 0.16203243, -0.14604068, 0.00774...</td>\n",
              "    </tr>\n",
              "  </tbody>\n",
              "</table>\n",
              "</div>\n",
              "      <button class=\"colab-df-convert\" onclick=\"convertToInteractive('df-1a2339db-a82c-4783-8676-ac74170dd272')\"\n",
              "              title=\"Convert this dataframe to an interactive table.\"\n",
              "              style=\"display:none;\">\n",
              "        \n",
              "  <svg xmlns=\"http://www.w3.org/2000/svg\" height=\"24px\"viewBox=\"0 0 24 24\"\n",
              "       width=\"24px\">\n",
              "    <path d=\"M0 0h24v24H0V0z\" fill=\"none\"/>\n",
              "    <path d=\"M18.56 5.44l.94 2.06.94-2.06 2.06-.94-2.06-.94-.94-2.06-.94 2.06-2.06.94zm-11 1L8.5 8.5l.94-2.06 2.06-.94-2.06-.94L8.5 2.5l-.94 2.06-2.06.94zm10 10l.94 2.06.94-2.06 2.06-.94-2.06-.94-.94-2.06-.94 2.06-2.06.94z\"/><path d=\"M17.41 7.96l-1.37-1.37c-.4-.4-.92-.59-1.43-.59-.52 0-1.04.2-1.43.59L10.3 9.45l-7.72 7.72c-.78.78-.78 2.05 0 2.83L4 21.41c.39.39.9.59 1.41.59.51 0 1.02-.2 1.41-.59l7.78-7.78 2.81-2.81c.8-.78.8-2.07 0-2.86zM5.41 20L4 18.59l7.72-7.72 1.47 1.35L5.41 20z\"/>\n",
              "  </svg>\n",
              "      </button>\n",
              "      \n",
              "  <style>\n",
              "    .colab-df-container {\n",
              "      display:flex;\n",
              "      flex-wrap:wrap;\n",
              "      gap: 12px;\n",
              "    }\n",
              "\n",
              "    .colab-df-convert {\n",
              "      background-color: #E8F0FE;\n",
              "      border: none;\n",
              "      border-radius: 50%;\n",
              "      cursor: pointer;\n",
              "      display: none;\n",
              "      fill: #1967D2;\n",
              "      height: 32px;\n",
              "      padding: 0 0 0 0;\n",
              "      width: 32px;\n",
              "    }\n",
              "\n",
              "    .colab-df-convert:hover {\n",
              "      background-color: #E2EBFA;\n",
              "      box-shadow: 0px 1px 2px rgba(60, 64, 67, 0.3), 0px 1px 3px 1px rgba(60, 64, 67, 0.15);\n",
              "      fill: #174EA6;\n",
              "    }\n",
              "\n",
              "    [theme=dark] .colab-df-convert {\n",
              "      background-color: #3B4455;\n",
              "      fill: #D2E3FC;\n",
              "    }\n",
              "\n",
              "    [theme=dark] .colab-df-convert:hover {\n",
              "      background-color: #434B5C;\n",
              "      box-shadow: 0px 1px 3px 1px rgba(0, 0, 0, 0.15);\n",
              "      filter: drop-shadow(0px 1px 2px rgba(0, 0, 0, 0.3));\n",
              "      fill: #FFFFFF;\n",
              "    }\n",
              "  </style>\n",
              "\n",
              "      <script>\n",
              "        const buttonEl =\n",
              "          document.querySelector('#df-1a2339db-a82c-4783-8676-ac74170dd272 button.colab-df-convert');\n",
              "        buttonEl.style.display =\n",
              "          google.colab.kernel.accessAllowed ? 'block' : 'none';\n",
              "\n",
              "        async function convertToInteractive(key) {\n",
              "          const element = document.querySelector('#df-1a2339db-a82c-4783-8676-ac74170dd272');\n",
              "          const dataTable =\n",
              "            await google.colab.kernel.invokeFunction('convertToInteractive',\n",
              "                                                     [key], {});\n",
              "          if (!dataTable) return;\n",
              "\n",
              "          const docLinkHtml = 'Like what you see? Visit the ' +\n",
              "            '<a target=\"_blank\" href=https://colab.research.google.com/notebooks/data_table.ipynb>data table notebook</a>'\n",
              "            + ' to learn more about interactive tables.';\n",
              "          element.innerHTML = '';\n",
              "          dataTable['output_type'] = 'display_data';\n",
              "          await google.colab.output.renderOutput(dataTable, element);\n",
              "          const docLink = document.createElement('div');\n",
              "          docLink.innerHTML = docLinkHtml;\n",
              "          element.appendChild(docLink);\n",
              "        }\n",
              "      </script>\n",
              "    </div>\n",
              "  </div>\n",
              "  "
            ]
          },
          "metadata": {},
          "execution_count": 29
        }
      ]
    },
    {
      "cell_type": "markdown",
      "source": [
        "### Training Our Model"
      ],
      "metadata": {
        "id": "g_lz4mDgweRa"
      }
    },
    {
      "cell_type": "code",
      "source": [
        "flat = df[\"vec\"].to_numpy()\n",
        "flat = flat.reshape(-1,1)"
      ],
      "metadata": {
        "id": "gJJoh7vLwi4J"
      },
      "execution_count": 30,
      "outputs": []
    },
    {
      "cell_type": "code",
      "source": [
        "flat.shape"
      ],
      "metadata": {
        "colab": {
          "base_uri": "https://localhost:8080/"
        },
        "id": "kND-Zy9zxsGs",
        "outputId": "6f710896-e5c2-4b6d-f48e-4af77efe0a0f"
      },
      "execution_count": 31,
      "outputs": [
        {
          "output_type": "execute_result",
          "data": {
            "text/plain": [
              "(9999, 1)"
            ]
          },
          "metadata": {},
          "execution_count": 31
        }
      ]
    },
    {
      "cell_type": "code",
      "source": [
        "flat = np.concatenate(np.concatenate(flat, axis = 0),axis = 0).reshape(-1,300)"
      ],
      "metadata": {
        "id": "pTckIiosxsxn"
      },
      "execution_count": 32,
      "outputs": []
    },
    {
      "cell_type": "code",
      "source": [
        "flat.shape"
      ],
      "metadata": {
        "colab": {
          "base_uri": "https://localhost:8080/"
        },
        "id": "NxsFhdpfx65l",
        "outputId": "db49553c-2d1f-481a-8bb2-a53325e23789"
      },
      "execution_count": 33,
      "outputs": [
        {
          "output_type": "execute_result",
          "data": {
            "text/plain": [
              "(9999, 300)"
            ]
          },
          "metadata": {},
          "execution_count": 33
        }
      ]
    },
    {
      "cell_type": "code",
      "source": [
        "def get_sentiment(score):\n",
        "  if score <= 2:\n",
        "    return \"negative\"\n",
        "  elif score == 3:\n",
        "    return \"neutral\"\n",
        "  else:\n",
        "    return \"positive\""
      ],
      "metadata": {
        "id": "XK3DHe8izMNl"
      },
      "execution_count": 34,
      "outputs": []
    },
    {
      "cell_type": "code",
      "source": [
        "df[\"sentiments\"] = df[\"points\"].apply(lambda x: get_sentiment(x))"
      ],
      "metadata": {
        "id": "EJbzKAmoziyt"
      },
      "execution_count": 35,
      "outputs": []
    },
    {
      "cell_type": "code",
      "source": [
        "df.head()"
      ],
      "metadata": {
        "colab": {
          "base_uri": "https://localhost:8080/",
          "height": 206
        },
        "id": "28VKjQn0zsEM",
        "outputId": "6495a1b9-b2ee-41a7-decf-ffd7a90bd915"
      },
      "execution_count": 36,
      "outputs": [
        {
          "output_type": "execute_result",
          "data": {
            "text/plain": [
              "                                             reviews  points  \\\n",
              "0  this book was supposed to be a best seller so ...     3.0   \n",
              "1  in the closing months of world war ii twentyfo...     3.0   \n",
              "2  i think stien is one of finest erotica writers...     3.0   \n",
              "3  the bridge novel in j r r tolkiens famous fant...     3.0   \n",
              "4  this book has many twists and turns it kept me...     5.0   \n",
              "\n",
              "                                                 vec sentiments  \n",
              "0  [-0.014849584, 0.21104869, -0.15673302, -0.074...    neutral  \n",
              "1  [0.06272754, 0.0677921, -0.0718665, -0.0253473...    neutral  \n",
              "2  [-0.011837674, 0.13551477, -0.14289556, -0.007...    neutral  \n",
              "3  [0.0038804708, 0.07443543, -0.13911256, -0.052...    neutral  \n",
              "4  [0.061509643, 0.16203243, -0.14604068, 0.00774...   positive  "
            ],
            "text/html": [
              "\n",
              "  <div id=\"df-55e4572c-bc41-46f6-aebc-c76390ac0d13\">\n",
              "    <div class=\"colab-df-container\">\n",
              "      <div>\n",
              "<style scoped>\n",
              "    .dataframe tbody tr th:only-of-type {\n",
              "        vertical-align: middle;\n",
              "    }\n",
              "\n",
              "    .dataframe tbody tr th {\n",
              "        vertical-align: top;\n",
              "    }\n",
              "\n",
              "    .dataframe thead th {\n",
              "        text-align: right;\n",
              "    }\n",
              "</style>\n",
              "<table border=\"1\" class=\"dataframe\">\n",
              "  <thead>\n",
              "    <tr style=\"text-align: right;\">\n",
              "      <th></th>\n",
              "      <th>reviews</th>\n",
              "      <th>points</th>\n",
              "      <th>vec</th>\n",
              "      <th>sentiments</th>\n",
              "    </tr>\n",
              "  </thead>\n",
              "  <tbody>\n",
              "    <tr>\n",
              "      <th>0</th>\n",
              "      <td>this book was supposed to be a best seller so ...</td>\n",
              "      <td>3.0</td>\n",
              "      <td>[-0.014849584, 0.21104869, -0.15673302, -0.074...</td>\n",
              "      <td>neutral</td>\n",
              "    </tr>\n",
              "    <tr>\n",
              "      <th>1</th>\n",
              "      <td>in the closing months of world war ii twentyfo...</td>\n",
              "      <td>3.0</td>\n",
              "      <td>[0.06272754, 0.0677921, -0.0718665, -0.0253473...</td>\n",
              "      <td>neutral</td>\n",
              "    </tr>\n",
              "    <tr>\n",
              "      <th>2</th>\n",
              "      <td>i think stien is one of finest erotica writers...</td>\n",
              "      <td>3.0</td>\n",
              "      <td>[-0.011837674, 0.13551477, -0.14289556, -0.007...</td>\n",
              "      <td>neutral</td>\n",
              "    </tr>\n",
              "    <tr>\n",
              "      <th>3</th>\n",
              "      <td>the bridge novel in j r r tolkiens famous fant...</td>\n",
              "      <td>3.0</td>\n",
              "      <td>[0.0038804708, 0.07443543, -0.13911256, -0.052...</td>\n",
              "      <td>neutral</td>\n",
              "    </tr>\n",
              "    <tr>\n",
              "      <th>4</th>\n",
              "      <td>this book has many twists and turns it kept me...</td>\n",
              "      <td>5.0</td>\n",
              "      <td>[0.061509643, 0.16203243, -0.14604068, 0.00774...</td>\n",
              "      <td>positive</td>\n",
              "    </tr>\n",
              "  </tbody>\n",
              "</table>\n",
              "</div>\n",
              "      <button class=\"colab-df-convert\" onclick=\"convertToInteractive('df-55e4572c-bc41-46f6-aebc-c76390ac0d13')\"\n",
              "              title=\"Convert this dataframe to an interactive table.\"\n",
              "              style=\"display:none;\">\n",
              "        \n",
              "  <svg xmlns=\"http://www.w3.org/2000/svg\" height=\"24px\"viewBox=\"0 0 24 24\"\n",
              "       width=\"24px\">\n",
              "    <path d=\"M0 0h24v24H0V0z\" fill=\"none\"/>\n",
              "    <path d=\"M18.56 5.44l.94 2.06.94-2.06 2.06-.94-2.06-.94-.94-2.06-.94 2.06-2.06.94zm-11 1L8.5 8.5l.94-2.06 2.06-.94-2.06-.94L8.5 2.5l-.94 2.06-2.06.94zm10 10l.94 2.06.94-2.06 2.06-.94-2.06-.94-.94-2.06-.94 2.06-2.06.94z\"/><path d=\"M17.41 7.96l-1.37-1.37c-.4-.4-.92-.59-1.43-.59-.52 0-1.04.2-1.43.59L10.3 9.45l-7.72 7.72c-.78.78-.78 2.05 0 2.83L4 21.41c.39.39.9.59 1.41.59.51 0 1.02-.2 1.41-.59l7.78-7.78 2.81-2.81c.8-.78.8-2.07 0-2.86zM5.41 20L4 18.59l7.72-7.72 1.47 1.35L5.41 20z\"/>\n",
              "  </svg>\n",
              "      </button>\n",
              "      \n",
              "  <style>\n",
              "    .colab-df-container {\n",
              "      display:flex;\n",
              "      flex-wrap:wrap;\n",
              "      gap: 12px;\n",
              "    }\n",
              "\n",
              "    .colab-df-convert {\n",
              "      background-color: #E8F0FE;\n",
              "      border: none;\n",
              "      border-radius: 50%;\n",
              "      cursor: pointer;\n",
              "      display: none;\n",
              "      fill: #1967D2;\n",
              "      height: 32px;\n",
              "      padding: 0 0 0 0;\n",
              "      width: 32px;\n",
              "    }\n",
              "\n",
              "    .colab-df-convert:hover {\n",
              "      background-color: #E2EBFA;\n",
              "      box-shadow: 0px 1px 2px rgba(60, 64, 67, 0.3), 0px 1px 3px 1px rgba(60, 64, 67, 0.15);\n",
              "      fill: #174EA6;\n",
              "    }\n",
              "\n",
              "    [theme=dark] .colab-df-convert {\n",
              "      background-color: #3B4455;\n",
              "      fill: #D2E3FC;\n",
              "    }\n",
              "\n",
              "    [theme=dark] .colab-df-convert:hover {\n",
              "      background-color: #434B5C;\n",
              "      box-shadow: 0px 1px 3px 1px rgba(0, 0, 0, 0.15);\n",
              "      filter: drop-shadow(0px 1px 2px rgba(0, 0, 0, 0.3));\n",
              "      fill: #FFFFFF;\n",
              "    }\n",
              "  </style>\n",
              "\n",
              "      <script>\n",
              "        const buttonEl =\n",
              "          document.querySelector('#df-55e4572c-bc41-46f6-aebc-c76390ac0d13 button.colab-df-convert');\n",
              "        buttonEl.style.display =\n",
              "          google.colab.kernel.accessAllowed ? 'block' : 'none';\n",
              "\n",
              "        async function convertToInteractive(key) {\n",
              "          const element = document.querySelector('#df-55e4572c-bc41-46f6-aebc-c76390ac0d13');\n",
              "          const dataTable =\n",
              "            await google.colab.kernel.invokeFunction('convertToInteractive',\n",
              "                                                     [key], {});\n",
              "          if (!dataTable) return;\n",
              "\n",
              "          const docLinkHtml = 'Like what you see? Visit the ' +\n",
              "            '<a target=\"_blank\" href=https://colab.research.google.com/notebooks/data_table.ipynb>data table notebook</a>'\n",
              "            + ' to learn more about interactive tables.';\n",
              "          element.innerHTML = '';\n",
              "          dataTable['output_type'] = 'display_data';\n",
              "          await google.colab.output.renderOutput(dataTable, element);\n",
              "          const docLink = document.createElement('div');\n",
              "          docLink.innerHTML = docLinkHtml;\n",
              "          element.appendChild(docLink);\n",
              "        }\n",
              "      </script>\n",
              "    </div>\n",
              "  </div>\n",
              "  "
            ]
          },
          "metadata": {},
          "execution_count": 36
        }
      ]
    },
    {
      "cell_type": "markdown",
      "source": [
        "### ML"
      ],
      "metadata": {
        "id": "CVm8v39dyq0G"
      }
    },
    {
      "cell_type": "code",
      "source": [
        "y = df[\"sentiments\"]"
      ],
      "metadata": {
        "id": "NSzsla74yBVM"
      },
      "execution_count": 86,
      "outputs": []
    },
    {
      "cell_type": "code",
      "source": [
        "y"
      ],
      "metadata": {
        "colab": {
          "base_uri": "https://localhost:8080/"
        },
        "id": "GU0SyecIc-jJ",
        "outputId": "601fc060-39e0-434e-f21e-856fa0b765f4"
      },
      "execution_count": 87,
      "outputs": [
        {
          "output_type": "execute_result",
          "data": {
            "text/plain": [
              "0        neutral\n",
              "1        neutral\n",
              "2        neutral\n",
              "3        neutral\n",
              "4       positive\n",
              "          ...   \n",
              "9994    negative\n",
              "9995    positive\n",
              "9996    positive\n",
              "9997    negative\n",
              "9998    positive\n",
              "Name: sentiments, Length: 9999, dtype: object"
            ]
          },
          "metadata": {},
          "execution_count": 87
        }
      ]
    },
    {
      "cell_type": "code",
      "source": [
        "x_train, x_test, y_train, y_test = train_test_split(flat, y, test_size = 0.30, random_state = 31, stratify = y)"
      ],
      "metadata": {
        "id": "wEsj3g-40n2Y"
      },
      "execution_count": 117,
      "outputs": []
    },
    {
      "cell_type": "code",
      "source": [
        "x_train.shape"
      ],
      "metadata": {
        "colab": {
          "base_uri": "https://localhost:8080/"
        },
        "id": "C6VzrXSh02ls",
        "outputId": "6739b240-0631-4e97-a052-bb31ec7dbdea"
      },
      "execution_count": 118,
      "outputs": [
        {
          "output_type": "execute_result",
          "data": {
            "text/plain": [
              "(6999, 300)"
            ]
          },
          "metadata": {},
          "execution_count": 118
        }
      ]
    },
    {
      "cell_type": "code",
      "source": [
        "x_test.shape"
      ],
      "metadata": {
        "colab": {
          "base_uri": "https://localhost:8080/"
        },
        "id": "5ZeLXS5G03yH",
        "outputId": "31564488-cb05-4bfc-9eff-34524d6cd529"
      },
      "execution_count": 119,
      "outputs": [
        {
          "output_type": "execute_result",
          "data": {
            "text/plain": [
              "(3000, 300)"
            ]
          },
          "metadata": {},
          "execution_count": 119
        }
      ]
    },
    {
      "cell_type": "markdown",
      "source": [
        "### Train ML Model"
      ],
      "metadata": {
        "id": "aEBzWbTQ07oP"
      }
    },
    {
      "cell_type": "code",
      "source": [
        "clf = LogisticRegression(solver = \"liblinear\")\n"
      ],
      "metadata": {
        "id": "UBbb_E7P09kP"
      },
      "execution_count": 120,
      "outputs": []
    },
    {
      "cell_type": "code",
      "source": [
        "clf.fit(x_train, y_train)"
      ],
      "metadata": {
        "colab": {
          "base_uri": "https://localhost:8080/"
        },
        "id": "Jo9S-r471GVg",
        "outputId": "90b3706e-be9e-4db2-dede-bac605740b45"
      },
      "execution_count": 121,
      "outputs": [
        {
          "output_type": "execute_result",
          "data": {
            "text/plain": [
              "LogisticRegression(solver='liblinear')"
            ]
          },
          "metadata": {},
          "execution_count": 121
        }
      ]
    },
    {
      "cell_type": "code",
      "source": [
        "y_pred = clf.predict(x_test)"
      ],
      "metadata": {
        "id": "Po4u-4Q41JRt"
      },
      "execution_count": 122,
      "outputs": []
    },
    {
      "cell_type": "code",
      "source": [
        "print(classification_report(y_test, y_pred))"
      ],
      "metadata": {
        "colab": {
          "base_uri": "https://localhost:8080/"
        },
        "id": "WSQZdZsU1Mgl",
        "outputId": "78a03fbf-b6cc-4dc8-b422-03cfb994d56e"
      },
      "execution_count": 123,
      "outputs": [
        {
          "output_type": "stream",
          "name": "stdout",
          "text": [
            "              precision    recall  f1-score   support\n",
            "\n",
            "    negative       0.66      0.73      0.69      1000\n",
            "     neutral       0.60      0.47      0.53      1000\n",
            "    positive       0.74      0.80      0.77      1000\n",
            "\n",
            "    accuracy                           0.67      3000\n",
            "   macro avg       0.66      0.67      0.66      3000\n",
            "weighted avg       0.66      0.67      0.66      3000\n",
            "\n"
          ]
        }
      ]
    },
    {
      "cell_type": "code",
      "source": [
        "from sklearn.pipeline import make_pipeline\n",
        "from sklearn.preprocessing import StandardScaler\n",
        "from sklearn.svm import SVC"
      ],
      "metadata": {
        "id": "PGAwB0-Hf4jZ"
      },
      "execution_count": 124,
      "outputs": []
    },
    {
      "cell_type": "code",
      "source": [
        "clfSVC = make_pipeline(StandardScaler(), SVC(gamma = \"auto\"))\n",
        "clfSVC.fit(x_train, y_train)"
      ],
      "metadata": {
        "colab": {
          "base_uri": "https://localhost:8080/"
        },
        "id": "erSQ908Igdde",
        "outputId": "6a0e2f11-dfd3-4fd8-83c0-29486daca5b1"
      },
      "execution_count": 125,
      "outputs": [
        {
          "output_type": "execute_result",
          "data": {
            "text/plain": [
              "Pipeline(steps=[('standardscaler', StandardScaler()),\n",
              "                ('svc', SVC(gamma='auto'))])"
            ]
          },
          "metadata": {},
          "execution_count": 125
        }
      ]
    },
    {
      "cell_type": "code",
      "source": [
        "y_predSVC = clfSVC.predict(x_test)"
      ],
      "metadata": {
        "id": "31o87AQJg4YE"
      },
      "execution_count": 126,
      "outputs": []
    },
    {
      "cell_type": "code",
      "source": [
        "print(classification_report(y_test, y_predSVC))"
      ],
      "metadata": {
        "colab": {
          "base_uri": "https://localhost:8080/"
        },
        "id": "UXUvhEubhBQH",
        "outputId": "c18d357f-210d-4e62-c7b1-6ab4b8c65f8e"
      },
      "execution_count": 127,
      "outputs": [
        {
          "output_type": "stream",
          "name": "stdout",
          "text": [
            "              precision    recall  f1-score   support\n",
            "\n",
            "    negative       0.69      0.70      0.70      1000\n",
            "     neutral       0.60      0.55      0.57      1000\n",
            "    positive       0.76      0.81      0.79      1000\n",
            "\n",
            "    accuracy                           0.69      3000\n",
            "   macro avg       0.68      0.69      0.69      3000\n",
            "weighted avg       0.68      0.69      0.69      3000\n",
            "\n"
          ]
        }
      ]
    },
    {
      "cell_type": "code",
      "source": [
        "from sklearn.model_selection import cross_val_score"
      ],
      "metadata": {
        "id": "e8p7Hmb4dX2G"
      },
      "execution_count": 128,
      "outputs": []
    },
    {
      "cell_type": "code",
      "source": [
        "print(\"CrossValScoreLOGREG:\", cross_val_score(clf, x_test, y_test, cv=10))"
      ],
      "metadata": {
        "colab": {
          "base_uri": "https://localhost:8080/"
        },
        "id": "oYsNuJ4NdbWy",
        "outputId": "d355e157-c0d9-4482-9ee3-3820e2629b81"
      },
      "execution_count": 129,
      "outputs": [
        {
          "output_type": "stream",
          "name": "stdout",
          "text": [
            "CrossValScoreLOGREG: [0.65       0.66666667 0.65       0.63       0.65       0.65333333\n",
            " 0.66333333 0.65333333 0.66666667 0.62666667]\n"
          ]
        }
      ]
    },
    {
      "cell_type": "code",
      "source": [
        "print(\"CrossValScoreSVC:\", cross_val_score(clfSVC, x_test, y_test, cv = 10))"
      ],
      "metadata": {
        "colab": {
          "base_uri": "https://localhost:8080/"
        },
        "id": "26I2eTt0hN8B",
        "outputId": "cf1998f6-22e6-40c1-f241-3c7083163379"
      },
      "execution_count": 130,
      "outputs": [
        {
          "output_type": "stream",
          "name": "stdout",
          "text": [
            "CrossValScoreSVC: [0.67       0.69333333 0.67333333 0.63333333 0.65333333 0.63333333\n",
            " 0.66666667 0.64666667 0.68333333 0.63666667]\n"
          ]
        }
      ]
    },
    {
      "cell_type": "code",
      "source": [
        "from sklearn.metrics import confusion_matrix\n",
        "import matplotlib.pyplot as plt\n",
        "pred_clf = clf.predict(x_test)"
      ],
      "metadata": {
        "id": "575Kc6mqdy2f"
      },
      "execution_count": 131,
      "outputs": []
    },
    {
      "cell_type": "code",
      "source": [
        "cm = confusion_matrix(y_test, pred_clf)\n",
        "print(cm)"
      ],
      "metadata": {
        "colab": {
          "base_uri": "https://localhost:8080/"
        },
        "id": "xhSylslld73U",
        "outputId": "088b3f2c-1af4-4ed8-99dc-742a75f999be"
      },
      "execution_count": 132,
      "outputs": [
        {
          "output_type": "stream",
          "name": "stdout",
          "text": [
            "[[735 194  71]\n",
            " [315 475 210]\n",
            " [ 68 128 804]]\n"
          ]
        }
      ]
    },
    {
      "cell_type": "code",
      "source": [
        "plt.matshow(cm)\n",
        "plt.title('Confusion matrix LOG REG')\n",
        "plt.colorbar()\n",
        "plt.ylabel('True label')\n",
        "plt.xlabel('Predicted label')\n",
        "plt.show()"
      ],
      "metadata": {
        "colab": {
          "base_uri": "https://localhost:8080/",
          "height": 257
        },
        "id": "JhRfSFcheKjS",
        "outputId": "6cddc043-7060-4250-d419-e20262c21fff"
      },
      "execution_count": 155,
      "outputs": [
        {
          "output_type": "display_data",
          "data": {
            "text/plain": [
              "<Figure size 288x288 with 2 Axes>"
            ],
            "image/png": "[encoded data removed]"
          },
          "metadata": {
            "needs_background": "light"
          }
        }
      ]
    },
    {
      "cell_type": "code",
      "source": [
        "pred_clf_SVC = clfSVC.predict(x_test)"
      ],
      "metadata": {
        "id": "a3n7A42LhwGj"
      },
      "execution_count": 134,
      "outputs": []
    },
    {
      "cell_type": "code",
      "source": [
        "cm = confusion_matrix(y_test, pred_clf_SVC)\n",
        "print(cm)"
      ],
      "metadata": {
        "colab": {
          "base_uri": "https://localhost:8080/"
        },
        "id": "pSFQbypXh40M",
        "outputId": "7bbc581b-7bf4-4fba-e3e9-21d8cbf3e54a"
      },
      "execution_count": 135,
      "outputs": [
        {
          "output_type": "stream",
          "name": "stdout",
          "text": [
            "[[700 238  62]\n",
            " [257 552 191]\n",
            " [ 55 133 812]]\n"
          ]
        }
      ]
    },
    {
      "cell_type": "code",
      "source": [
        "plt.matshow(cm)\n",
        "plt.title('Confusion matrix SVC')\n",
        "plt.colorbar()\n",
        "plt.ylabel('True label')\n",
        "plt.xlabel('Predicted label')\n",
        "plt.show()"
      ],
      "metadata": {
        "colab": {
          "base_uri": "https://localhost:8080/",
          "height": 257
        },
        "id": "oQJhmoXAh8LI",
        "outputId": "5c864c7a-cb93-4bf2-c459-ef5be91417e8"
      },
      "execution_count": 136,
      "outputs": [
        {
          "output_type": "display_data",
          "data": {
            "text/plain": [
              "<Figure size 288x288 with 2 Axes>"
            ],
            "image/png": "[encoded data removed]"
          },
          "metadata": {
            "needs_background": "light"
          }
        }
      ]
    },
    {
      "cell_type": "code",
      "source": [
        "import pickle"
      ],
      "metadata": {
        "id": "-PWx0a6d1QYA"
      },
      "execution_count": 45,
      "outputs": []
    },
    {
      "cell_type": "code",
      "source": [
        "pickle.dump(clf, open(\"w2v_sentiment_LogReg.pkl\", \"wb\"))"
      ],
      "metadata": {
        "id": "FuKFD-3R7kFZ"
      },
      "execution_count": 138,
      "outputs": []
    },
    {
      "cell_type": "code",
      "source": [
        "pickle.dump(clfSVC, open(\"w2v_sentiment_SVC.pkl\", \"wb\"))"
      ],
      "metadata": {
        "id": "d5AVQG5oiKle"
      },
      "execution_count": 140,
      "outputs": []
    },
    {
      "cell_type": "code",
      "source": [
        "model = pickle.load(open(\"w2v_sentiment_LogReg.pkl\", \"rb\"))"
      ],
      "metadata": {
        "id": "gJpNJDd07rUn"
      },
      "execution_count": 148,
      "outputs": []
    },
    {
      "cell_type": "code",
      "source": [
        "deneme1 = \"I want more!\"\n",
        "deneme1 = get_clean(deneme1)\n",
        "vecx = get_vec(deneme1)"
      ],
      "metadata": {
        "id": "X6YENrwM713z"
      },
      "execution_count": 149,
      "outputs": []
    },
    {
      "cell_type": "code",
      "source": [
        "model.predict(vecx.reshape(1,-1))"
      ],
      "metadata": {
        "colab": {
          "base_uri": "https://localhost:8080/"
        },
        "id": "gPYkDyOO79MT",
        "outputId": "ff0e16cd-87cc-41b5-84d8-c9ed407fb5fc"
      },
      "execution_count": 150,
      "outputs": [
        {
          "output_type": "execute_result",
          "data": {
            "text/plain": [
              "array(['positive'], dtype=object)"
            ]
          },
          "metadata": {},
          "execution_count": 150
        }
      ]
    },
    {
      "cell_type": "code",
      "source": [
        "deneme2 = \"It's confusing, but ok.\"\n",
        "deneme2 = get_clean(deneme2)\n",
        "vecz = get_vec(deneme2)"
      ],
      "metadata": {
        "id": "n5olK8HdaDxN"
      },
      "execution_count": 151,
      "outputs": []
    },
    {
      "cell_type": "code",
      "source": [
        "model.predict(vecz.reshape(1,-1))"
      ],
      "metadata": {
        "colab": {
          "base_uri": "https://localhost:8080/"
        },
        "id": "rZCT6R48aLig",
        "outputId": "66aed49a-614c-4cb0-a18a-90e9c9adc78d"
      },
      "execution_count": 152,
      "outputs": [
        {
          "output_type": "execute_result",
          "data": {
            "text/plain": [
              "array(['neutral'], dtype=object)"
            ]
          },
          "metadata": {},
          "execution_count": 152
        }
      ]
    },
    {
      "cell_type": "code",
      "source": [
        "deneme3 = \"This book left me hornswoggled\"\n",
        "deneme3 = get_clean(deneme3)\n",
        "vecy = get_vec(deneme3)"
      ],
      "metadata": {
        "id": "0zoRGalm8BFC"
      },
      "execution_count": 153,
      "outputs": []
    },
    {
      "cell_type": "code",
      "source": [
        "model.predict(vecy.reshape(1,-1))"
      ],
      "metadata": {
        "colab": {
          "base_uri": "https://localhost:8080/"
        },
        "id": "xoS-HMgtZXGS",
        "outputId": "2694c927-0351-4322-f07a-afe48c82d54e"
      },
      "execution_count": 154,
      "outputs": [
        {
          "output_type": "execute_result",
          "data": {
            "text/plain": [
              "array(['negative'], dtype=object)"
            ]
          },
          "metadata": {},
          "execution_count": 154
        }
      ]
    }
  ]
}